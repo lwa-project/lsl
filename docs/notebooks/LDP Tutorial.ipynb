{
 "cells": [
  {
   "cell_type": "markdown",
   "metadata": {},
   "source": [
    "# Basics"
   ]
  },
  {
   "cell_type": "markdown",
   "metadata": {},
   "source": [
    "LSL also provides a high-level interface to LWA1 data through the LSL Developer Primitives (LDP) module.  First, download a small portion of the various LWA1 data formats:"
   ]
  },
  {
   "cell_type": "code",
   "execution_count": 4,
   "metadata": {
    "collapsed": false,
    "jupyter": {
     "outputs_hidden": false
    }
   },
   "outputs": [
    {
     "name": "stdout",
     "output_type": "stream",
     "text": [
      "TBW Size: 1195.3 kB\n",
      "TBN Size: 1023.4 kB\n",
      "DRX Size: 1209.4 kB\n",
      "DR Spectrometer Size: 1209.4 kB\n"
     ]
    }
   ],
   "source": [
    "# This may take a bit...\n",
    "import os\n",
    "from urllib.request import urlopen\n",
    "from tempfile import mkdtemp\n",
    "from lsl.reader import tbw, tbn, drx\n",
    "\n",
    "TEMPDIR = mkdtemp()\n",
    "TBW_FILE = os.path.join(TEMPDIR, 'temp.tbw')\n",
    "TBN_FILE = os.path.join(TEMPDIR, 'temp.tbn')\n",
    "DRX_FILE = os.path.join(TEMPDIR, 'temp.drx')\n",
    "DRS_FILE = os.path.join(TEMPDIR, 'temp.drs')\n",
    "\n",
    "\n",
    "fh1 = urlopen('https://fornax.phys.unm.edu/lwa/data/firstlight/firstLightTBW.dat')\n",
    "fh2 = open(TBW_FILE, 'wb')\n",
    "fh2.write(fh1.read(tbw.FRAME_SIZE*1000))\n",
    "fh1.close()\n",
    "fh2.close()\n",
    "print(\"TBW Size: %.1f kB\" % (os.path.getsize(TBW_FILE)/1024.))\n",
    "\n",
    "fh1 = urlopen('https://lda10g.alliance.unm.edu/tutorial/Meteors/056761_000099453')\n",
    "fh2 = open(TBN_FILE, 'wb')\n",
    "fh2.write(fh1.read(tbn.FRAME_SIZE*1000))\n",
    "fh1.close()\n",
    "fh2.close()\n",
    "print(\"TBN Size: %.1f kB\" % (os.path.getsize(TBN_FILE)/1024.))\n",
    "\n",
    "fh1 = urlopen('https://lda10g.alliance.unm.edu/tutorial/Jupiter/055917_000007389_Jupiter.dat')\n",
    "fh2 = open(DRX_FILE, 'wb')\n",
    "fh2.write(fh1.read(drx.FRAME_SIZE*300))\n",
    "fh1.close()\n",
    "fh2.close()\n",
    "print(\"DRX Size: %.1f kB\" % (os.path.getsize(DRX_FILE)/1024.))\n",
    "\n",
    "fh1 = urlopen('https://lda10g.alliance.unm.edu/tutorial/B0329+54/056770_000044687')\n",
    "fh2 = open(DRS_FILE, 'wb')\n",
    "fh2.write(fh1.read(drx.FRAME_SIZE*300))\n",
    "fh1.close()\n",
    "fh2.close()\n",
    "print(\"DR Spectrometer Size: %.1f kB\" % (os.path.getsize(DRS_FILE)/1024.))"
   ]
  },
  {
   "cell_type": "markdown",
   "metadata": {},
   "source": [
    "Getting started with LDP is as easy as:"
   ]
  },
  {
   "cell_type": "code",
   "execution_count": 6,
   "metadata": {},
   "outputs": [],
   "source": [
    "from lsl.reader.ldp import LWADataFile"
   ]
  },
  {
   "cell_type": "markdown",
   "metadata": {},
   "source": [
    "The LWADataFile() function takes either a filename or an open file handle and uses the contents of the file to select the correct data format handler.  For example:"
   ]
  },
  {
   "cell_type": "code",
   "execution_count": 7,
   "metadata": {
    "collapsed": false,
    "jupyter": {
     "outputs_hidden": false
    }
   },
   "outputs": [
    {
     "name": "stdout",
     "output_type": "stream",
     "text": [
      "'temp.drx' is of type: <class 'lsl.reader.ldp.DRXFile'>\n",
      "'temp.drspec' is of type: <class 'lsl.reader.ldp.DRSpecFile'>\n",
      "'temp.tbw' is of type: <class 'lsl.reader.ldp.TBWFile'>\n",
      "'temp.tbn' is of type: <class 'lsl.reader.ldp.TBNFile'>\n"
     ]
    }
   ],
   "source": [
    "idfD = LWADataFile(DRX_FILE)\n",
    "print(\"'temp.drx' is of type:\", type(idfD))\n",
    "\n",
    "idfS = LWADataFile(DRS_FILE)\n",
    "print(\"'temp.drspec' is of type:\", type(idfS))\n",
    "\n",
    "fh = open(TBW_FILE, 'rb')\n",
    "idfW = LWADataFile(fh=fh)\n",
    "print(\"'temp.tbw' is of type:\", type(idfW))\n",
    "\n",
    "idfN = LWADataFile(TBN_FILE)\n",
    "print(\"'temp.tbn' is of type:\", type(idfN))"
   ]
  },
  {
   "cell_type": "markdown",
   "metadata": {},
   "source": [
    "As part of the initialization process LDP also takes care of preparing the file for reading, such as aligning the time tags for DRX files, and creating the ring buffer for TBN and DRX files.\n",
    "\n",
    "LDP provides access to the file metadata through the getInfo() method.  Called without an argument, getInfo() returns a dictionary of various metadata parameters that have been determined.  Specific metadata values can be returned by specifying the parameter:"
   ]
  },
  {
   "cell_type": "code",
   "execution_count": 5,
   "metadata": {
    "collapsed": false,
    "jupyter": {
     "outputs_hidden": false
    }
   },
   "outputs": [
    {
     "name": "stdout",
     "output_type": "stream",
     "text": [
      "TBN Metadata:\n",
      "  size: 1048000\n",
      "  nframes: 1000\n",
      "  frame_size: 1048\n",
      "  nantenna: 520\n",
      "  sample_rate: 100000.0\n",
      "  data_bits: 8\n",
      "  start_time: (1397472446, 0.95392)\n",
      "  start_time_samples: 273904599602968320\n",
      "  freq1: 37800000.66757202\n",
      " \n",
      "DRX Sample Rate 19.600 MS/s\n",
      " \n",
      "DR Spectrometer Metadata:\n",
      "  size: 1238400\n",
      "  nframes: 75\n",
      "  frame_size: 16460\n",
      "  beampols: 4\n",
      "  beam: 2\n",
      "  sample_rate: 19600000.0\n",
      "  data_bits: 32\n",
      "  start_time: (1398276221, 0.034108066326530614)\n",
      "  start_time_samples: 274062139322685181\n",
      "  freq1: 54400000.92983246\n",
      "  freq2: 73999999.76158142\n",
      "  nInt: 768\n",
      "  tint: 0.04012408163265306\n",
      "  LFFT: 1024\n",
      "  nproducts: 2\n",
      "  data_products: ['XX', 'YY']\n",
      " \n"
     ]
    }
   ],
   "source": [
    "# Poll the TBN file for its specifics\n",
    "print(\"TBN Metadata:\")\n",
    "for key in idfN.get_info().keys():\n",
    "    value = idfN.get_info(key)\n",
    "    print(\"  %s:\" % key, value)\n",
    "print(\" \")\n",
    "\n",
    "# Poll the DRX file for the sample rate\n",
    "print(\"DRX Sample Rate %.3f MS/s\" % (idfD.get_info('sample_rate')/1e6,))\n",
    "print(\" \")\n",
    "\n",
    "# Poll the DR spectrometer file for its specifics\n",
    "print(\"DR Spectrometer Metadata:\")\n",
    "for key in idfS.get_info().keys():\n",
    "    value = idfS.get_info(key)\n",
    "    print(\"  %s:\" % key, value)\n",
    "print(\" \")"
   ]
  },
  {
   "cell_type": "markdown",
   "metadata": {},
   "source": [
    "To access the data through LDP, the most convenient method is to use the read() method of the LDP instance returned by LWADataFile().  This method takes in a single argument for the amount of time to read in and returns a multi-element tuple of the timestamp for the first data sample, the duration of data returned, and the data itself as a NumPy array.  For example, to read in 10 ms of raw data from a DRX file:"
   ]
  },
  {
   "cell_type": "code",
   "execution_count": 6,
   "metadata": {
    "collapsed": false,
    "jupyter": {
     "outputs_hidden": false
    }
   },
   "outputs": [
    {
     "name": "stdout",
     "output_type": "stream",
     "text": [
      "Duration read: 10.031 ms\n",
      "Time of first sample: 1324515670.601744\n",
      "Data specifics: (4, 196608) complex64\n"
     ]
    }
   ],
   "source": [
    "duration, tStart, data = idfD.read(0.010)\n",
    "print(\"Duration read: %.3f ms\" % (duration*1e3,))\n",
    "print(\"Time of first sample: %.6f\" % tStart)\n",
    "print(\"Data specifics:\", data.shape, data.dtype)"
   ]
  },
  {
   "cell_type": "markdown",
   "metadata": {},
   "source": [
    "Here the duration variable holds the exact amount of data read in, the tStart variable holds the UNIX timestamp for the first sample, and the data variable is an array of the I/Q values.  The timestamp can be converted to a more easily understandable format using the datetime module:"
   ]
  },
  {
   "cell_type": "code",
   "execution_count": 7,
   "metadata": {
    "collapsed": false,
    "jupyter": {
     "outputs_hidden": false
    }
   },
   "outputs": [
    {
     "name": "stdout",
     "output_type": "stream",
     "text": [
      "2011-12-22 01:01:10.601744\n"
     ]
    }
   ],
   "source": [
    "tStartDT = tStart.datetime\n",
    "print(tStartDT)"
   ]
  },
  {
   "cell_type": "markdown",
   "metadata": {},
   "source": [
    "LDP also keeps track of the flow of time inside a data file and will raise a RuntimeError if a jump is found in the file while reading.  The behavior can be disabled by setting the \"ignoreTimeTagErrors\" keyword to True."
   ]
  },
  {
   "cell_type": "markdown",
   "metadata": {},
   "source": [
    "# Working with Data"
   ]
  },
  {
   "cell_type": "markdown",
   "metadata": {},
   "source": [
    "The data can also be worked with in a similar fashion to that was presented in the TBN and DRX tutorials.  The LDP data handlers always return data that is explicitly ordered.  In the case of TBW and TBN data the order is by the digitizer number and for DRX it is by tuning/polarization.  For DRX data:"
   ]
  },
  {
   "cell_type": "code",
   "execution_count": 8,
   "metadata": {
    "collapsed": false,
    "jupyter": {
     "outputs_hidden": false
    }
   },
   "outputs": [
    {
     "data": {
      "image/png": "[encoded data removed]",
      "text/plain": [
       "<Figure size 432x288 with 1 Axes>"
      ]
     },
     "metadata": {
      "needs_background": "light"
     },
     "output_type": "display_data"
    }
   ],
   "source": [
    "%matplotlib inline\n",
    "import numpy as np\n",
    "from lsl.correlator import fx as fxc\n",
    "from lsl.misc.mathutils import to_dB\n",
    "from matplotlib import pyplot as plt\n",
    "\n",
    "# Compute the spectra\n",
    "freq, spec = fxc.SpecMaster(data, LFFT=512, sample_rate=idfD.get_info('sample_rate'), central_freq=0.0)\n",
    "freq1 = freq + idfD.get_info('freq1')\n",
    "freq2 = freq + idfD.get_info('freq2')\n",
    "\n",
    "# Plot\n",
    "fig = plt.figure()\n",
    "ax = fig.gca()\n",
    "ax.plot(freq1/1e6, to_dB(spec[0,:]), label='B%i,T1,P0' % idfD.get_info('beam'))\n",
    "ax.plot(freq1/1e6, to_dB(spec[1,:]), label='B%i,T1,P1' % idfD.get_info('beam'))\n",
    "ax.set_xlabel('Frequency [MHz]')\n",
    "ax.set_ylabel('PSD [arb. dB]')\n",
    "ax.legend(loc=0)\n",
    "plt.show()"
   ]
  },
  {
   "cell_type": "markdown",
   "metadata": {},
   "source": [
    "Here the order along the first axis of data is:\n",
    "\n",
    "  1) Tuning 1, Pol. X\n",
    "\n",
    "  2) Tuning 1, Pol. Y\n",
    "\n",
    "  3) Tuning 2, Pol. X\n",
    "\n",
    "  4) Tuning 2, Pol. Y\n",
    "\n",
    "The interface to the DR spectrometer files is slightly different since the data have already been Fourier transformed and averaged:"
   ]
  },
  {
   "cell_type": "code",
   "execution_count": 9,
   "metadata": {
    "collapsed": false,
    "jupyter": {
     "outputs_hidden": false
    }
   },
   "outputs": [
    {
     "name": "stdout",
     "output_type": "stream",
     "text": [
      "Duration read: 80.248 ms\n",
      "Time of first sample: 1398276221.034108\n",
      "Data specifics: (4, 2, 1024) float32\n"
     ]
    }
   ],
   "source": [
    "durationS, tStartS, dataS = idfS.read(0.100)\n",
    "print(\"Duration read: %.3f ms\" % (durationS*1e3,))\n",
    "print(\"Time of first sample: %.6f\" % tStartS)\n",
    "print(\"Data specifics:\", dataS.shape, dataS.dtype)"
   ]
  },
  {
   "cell_type": "markdown",
   "metadata": {},
   "source": [
    "The data array here is three dimensional with dimensions that index the tuning/polarization pair, the integrations, and the channels.  In order to have the plot contain frequencies rather than channel numbers there is an additional step required to determine the frequency bins.  This is accomplished through the fftfreq and fftshift functions in the numpy.fft module:"
   ]
  },
  {
   "cell_type": "code",
   "execution_count": 10,
   "metadata": {
    "collapsed": false,
    "jupyter": {
     "outputs_hidden": false
    }
   },
   "outputs": [
    {
     "data": {
      "image/png": "[encoded data removed]",
      "text/plain": [
       "<Figure size 432x288 with 1 Axes>"
      ]
     },
     "metadata": {
      "needs_background": "light"
     },
     "output_type": "display_data"
    }
   ],
   "source": [
    "%matplotlib inline\n",
    "# Get the metadata\n",
    "b = idfS.get_info('beam')\n",
    "dp = idfS.get_info('data_products')\n",
    "\n",
    "# Compute the frequency bins\n",
    "freq = np.fft.fftfreq(dataS.shape[2], d=1.0/idfS.get_info('sample_rate'))\n",
    "freq = np.fft.fftshift(freq)\n",
    "freq1 = freq + idfS.get_info('freq1')\n",
    "freq2 = freq + idfS.get_info('freq2')\n",
    "\n",
    "# Intgrate\n",
    "spec = dataS.mean(axis=1)\n",
    "\n",
    "# Plot\n",
    "fig = plt.figure()\n",
    "ax = fig.gca()\n",
    "ax.plot(freq1/1e6, to_dB(spec[0,:]), label='B%i,T1,%s' % (b, dp[0 % len(dp)]))\n",
    "ax.plot(freq1/1e6, to_dB(spec[1,:]), label='B%i,T1,%s' % (b, dp[1 % len(dp)]))\n",
    "ax.plot(freq2/1e6, to_dB(spec[2,:]), label='B%i,T1,%s' % (b, dp[2 % len(dp)]))\n",
    "ax.plot(freq2/1e6, to_dB(spec[3,:]), label='B%i,T1,%s' % (b, dp[3 % len(dp)]))\n",
    "ax.set_xlabel('Frequency [MHz]')\n",
    "ax.set_ylabel('PSD [arb. dB]')\n",
    "ax.legend(loc=0)\n",
    "plt.show()"
   ]
  },
  {
   "cell_type": "markdown",
   "metadata": {},
   "source": [
    "# Offsetting"
   ]
  },
  {
   "cell_type": "markdown",
   "metadata": {},
   "source": [
    "The LDP handlers also provide an easy-to-use mechanism to skip forward within a data file using the offset() method.  This method takes an offset in seconds and adjusts the location of the read() method within the file accordingly.  For example:"
   ]
  },
  {
   "cell_type": "code",
   "execution_count": 11,
   "metadata": {
    "collapsed": false,
    "jupyter": {
     "outputs_hidden": false
    }
   },
   "outputs": [
    {
     "name": "stdout",
     "output_type": "stream",
     "text": [
      "Skipped: 10.240 ms\n",
      "Duration read: 10.031 ms\n",
      "Time of first sample: 1324515670.601744\n",
      "Data specifics: (4, 196608) complex64\n",
      " \n",
      "Time skip: 20.271 ms\n"
     ]
    }
   ],
   "source": [
    "# Offset 10 ms into the file from the current location\n",
    "skip = idfD.offset(0.010)\n",
    "print(\"Skipped: %.3f ms\" % (skip*1e3,))\n",
    "\n",
    "# Read in another 50 ms of data\n",
    "duration2, tStart2, data2 = idfD.read(0.050)\n",
    "print(\"Duration read: %.3f ms\" % (duration*1e3,))\n",
    "print(\"Time of first sample: %.6f\" % tStart)\n",
    "print(\"Data specifics:\", data.shape, data.dtype)\n",
    "print(\" \")\n",
    "print(\"Time skip: %.3f ms\" % ((tStart2-tStart)*1e3,))"
   ]
  },
  {
   "cell_type": "markdown",
   "metadata": {},
   "source": [
    "At any point you can also skip back to the beginning of the file using the reset() method."
   ]
  },
  {
   "cell_type": "code",
   "execution_count": 12,
   "metadata": {
    "collapsed": false,
    "jupyter": {
     "outputs_hidden": false
    }
   },
   "outputs": [
    {
     "name": "stdout",
     "output_type": "stream",
     "text": [
      "Back to the start? True\n",
      "Back to the start? True\n"
     ]
    }
   ],
   "source": [
    "# Go back to the beginning\n",
    "idfD.reset()\n",
    "\n",
    "# Read in the first 10 ms again\n",
    "duaration3, tStart3, data3 = idfD.read(0.010)\n",
    "\n",
    "# Are the start times the same?\n",
    "print(\"Back to the start?\", True if tStart3-tStart == 0 else False)\n",
    "\n",
    "# Are the data the same?\n",
    "print(\"Back to the start?\", True if (np.abs(data-data3)**2).sum() == 0 else False)"
   ]
  },
  {
   "cell_type": "markdown",
   "metadata": {},
   "source": [
    "# Closing"
   ]
  },
  {
   "cell_type": "markdown",
   "metadata": {},
   "source": [
    "When you are done using an LDP instance, just close it out:"
   ]
  },
  {
   "cell_type": "code",
   "execution_count": 13,
   "metadata": {},
   "outputs": [],
   "source": [
    "idfD.close()\n",
    "idfS.close()\n",
    "idfN.close()\n",
    "idfW.close()"
   ]
  },
  {
   "cell_type": "markdown",
   "metadata": {},
   "source": [
    "Once a LDP instance is closed you will not be able to access the data in the file:"
   ]
  },
  {
   "cell_type": "code",
   "execution_count": 14,
   "metadata": {
    "collapsed": false,
    "jupyter": {
     "outputs_hidden": false
    }
   },
   "outputs": [
    {
     "name": "stdout",
     "output_type": "stream",
     "text": [
      "ERROR: I/O operation on closed file\n"
     ]
    }
   ],
   "source": [
    "try:\n",
    "    idfD.read(0.010)\n",
    "except Exception as e:\n",
    "    print(\"ERROR: %s\" % str(e))"
   ]
  },
  {
   "cell_type": "markdown",
   "metadata": {},
   "source": [
    "# Additional Info",
    "\n",
    "In addition to the modules provided in LSL there are also a variety of scripts in the [commissioning repo](https://github.com/lwa-project/commissioning) to analyze data.\n"
   ]
  }
 ],
 "metadata": {
  "kernelspec": {
   "display_name": "Python 3",
   "language": "python",
   "name": "python3"
  },
  "language_info": {
   "codemirror_mode": {
    "name": "ipython",
    "version": 3
   },
   "file_extension": ".py",
   "mimetype": "text/x-python",
   "name": "python",
   "nbconvert_exporter": "python",
   "pygments_lexer": "ipython3",
   "version": "3.6.9"
  }
 },
 "nbformat": 4,
 "nbformat_minor": 4
}
