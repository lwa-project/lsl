{
 "cells": [
  {
   "cell_type": "markdown",
   "metadata": {},
   "source": [
    "# Basics"
   ]
  },
  {
   "cell_type": "markdown",
   "metadata": {},
   "source": [
    "LSL provides readers for the two DP transient buffer outputs:  the transient buffer - wideband (TBW) and the transient buffer - narrowband (TBW) through the lsl.reader module.  First, download a small portion of a TBW data file:"
   ]
  },
  {
   "cell_type": "code",
   "execution_count": 2,
   "metadata": {
    "collapsed": false,
    "jupyter": {
     "outputs_hidden": false
    }
   },
   "outputs": [
    {
     "name": "stdout",
     "output_type": "stream",
     "text": [
      "TBW Size: 1195.3 kB\n"
     ]
    }
   ],
   "source": [
    "# This may take a bit...\n",
    "import os\n",
    "from urllib.request import urlopen\n",
    "from tempfile import mkdtemp\n",
    "from lsl.reader import tbw\n",
    "\n",
    "TEMPDIR = mkdtemp()\n",
    "TBW_FILE = os.path.join(TEMPDIR, 'temp.tbw')\n",
    "TBN_FILE = os.path.join(TEMPDIR, 'temp.tbn')\n",
    "\n",
    "fh1 = urlopen('https://fornax.phys.unm.edu/lwa/data/firstlight/firstLightTBW.dat')\n",
    "fh2 = open(TBW_FILE, 'wb')\n",
    "fh2.write(fh1.read(tbw.FRAME_SIZE*1000))\n",
    "fh1.close()\n",
    "fh2.close()\n",
    "\n",
    "print(\"TBW Size: %.1f kB\" % (os.path.getsize(TBW_FILE)/1024.))"
   ]
  },
  {
   "cell_type": "markdown",
   "metadata": {},
   "source": [
    "To read in the TBW data:"
   ]
  },
  {
   "cell_type": "code",
   "execution_count": 4,
   "metadata": {
    "collapsed": false,
    "jupyter": {
     "outputs_hidden": false
    }
   },
   "outputs": [
    {
     "name": "stdout",
     "output_type": "stream",
     "text": [
      "DP Stand Number: 22\n",
      "-> Frame Count: 1\n",
      "-> Time tag: 1302134255 + 0.000000 s (2011-04-06 23:57:35)\n",
      "-> Mean value: 12.954\n",
      "DP Stand Number: 21\n",
      "-> Frame Count: 2\n",
      "-> Time tag: 1302134255 + 0.000002 s (2011-04-06 23:57:35.000002)\n",
      "-> Mean value: 14.061\n",
      "DP Stand Number: 22\n",
      "-> Frame Count: 2\n",
      "-> Time tag: 1302134255 + 0.000002 s (2011-04-06 23:57:35.000002)\n",
      "-> Mean value: 8.617\n",
      "DP Stand Number: 102\n",
      "-> Frame Count: 1\n",
      "-> Time tag: 1302134255 + 0.000000 s (2011-04-06 23:57:35)\n",
      "-> Mean value: 7.439\n",
      "DP Stand Number: 101\n",
      "-> Frame Count: 2\n",
      "-> Time tag: 1302134255 + 0.000002 s (2011-04-06 23:57:35.000002)\n",
      "-> Mean value: 3.271\n"
     ]
    }
   ],
   "source": [
    "from lsl.reader import tbw, errors\n",
    "\n",
    "fh = open(TBW_FILE, 'rb')\n",
    "for i in range(5):\n",
    "    try:\n",
    "        frame = tbw.read_frame(fh)\n",
    "    except errors.SyncError:\n",
    "        continue\n",
    "    except errors.EOFError:\n",
    "        break\n",
    "        \n",
    "    print(\"DP Stand Number: %i\" % frame.id)\n",
    "    print(\"-> Frame Count: %i\" % frame.header.frame_count)\n",
    "    print(\"-> Time tag: %i + %.6f s (%s)\" % (frame.time[0], frame.time[1], frame.time))\n",
    "    print(\"-> Mean value: %.3f\" % frame.payload.data.mean())\n",
    "fh.close()"
   ]
  },
  {
   "cell_type": "markdown",
   "metadata": {},
   "source": [
    "The try...except blocks help deal with problems in the file as the come up and keep things running smoothly.\n",
    "\n",
    "One of the most confusing aspects of this interface is that the stand values returned by the \"frame.id\" method are DP stand numbers, which are used internally in DP to keep track of signals, and not LWA1 stand numbers.  However, the DP stand numbers can be related to LWA1 stand numbers using the lsl.common.stations.lwa1 instance:"
   ]
  },
  {
   "cell_type": "code",
   "execution_count": 5,
   "metadata": {
    "collapsed": false,
    "jupyter": {
     "outputs_hidden": false
    }
   },
   "outputs": [
    {
     "name": "stdout",
     "output_type": "stream",
     "text": [
      "DP Stand Number: 22\n",
      "-> LWA1 Stand: 85\n",
      "-> Frame Count: 1\n",
      "-> Time tag: 1302134255 + 0.000000 s (2011-04-06 23:57:35)\n",
      "-> Mean value: 12.954\n",
      "DP Stand Number: 21\n",
      "-> LWA1 Stand: 242\n",
      "-> Frame Count: 2\n",
      "-> Time tag: 1302134255 + 0.000002 s (2011-04-06 23:57:35.000002)\n",
      "-> Mean value: 14.061\n",
      "DP Stand Number: 22\n",
      "-> LWA1 Stand: 85\n",
      "-> Frame Count: 2\n",
      "-> Time tag: 1302134255 + 0.000002 s (2011-04-06 23:57:35.000002)\n",
      "-> Mean value: 8.617\n",
      "DP Stand Number: 102\n",
      "-> LWA1 Stand: 112\n",
      "-> Frame Count: 1\n",
      "-> Time tag: 1302134255 + 0.000000 s (2011-04-06 23:57:35)\n",
      "-> Mean value: 7.439\n",
      "DP Stand Number: 101\n",
      "-> LWA1 Stand: 187\n",
      "-> Frame Count: 2\n",
      "-> Time tag: 1302134255 + 0.000002 s (2011-04-06 23:57:35.000002)\n",
      "-> Mean value: 3.271\n"
     ]
    }
   ],
   "source": [
    "from lsl.common.stations import lwa1\n",
    "\n",
    "# Get the antenna list\n",
    "antennas = lwa1.antennas\n",
    "\n",
    "# Read in the first 5 frames\n",
    "fh = open(TBW_FILE, 'rb')\n",
    "for i in range(5):\n",
    "    try:\n",
    "        frame = tbw.read_frame(fh)\n",
    "    except errors.SyncError:\n",
    "        continue\n",
    "    except errors.EOFError:\n",
    "        break\n",
    "        \n",
    "    # Calculate the digitizer\n",
    "    dig = 2*(frame.id-1) + 1\n",
    "    \n",
    "    print(\"DP Stand Number: %i\" % frame.id)\n",
    "    print(\"-> LWA1 Stand: %i\" % antennas[dig-1].stand.id)\n",
    "    print(\"-> Frame Count: %i\" % frame.header.frame_count)\n",
    "    print(\"-> Time tag: %i + %.06f s (%s)\" % (frame.time[0], frame.time[1], frame.time))\n",
    "    print(\"-> Mean value: %.3f\" % frame.payload.data.mean())\n",
    "fh.close()"
   ]
  },
  {
   "cell_type": "markdown",
   "metadata": {},
   "source": [
    "The interface for TBN data is similar.  To download a small section of data:"
   ]
  },
  {
   "cell_type": "code",
   "execution_count": 6,
   "metadata": {
    "collapsed": false,
    "jupyter": {
     "outputs_hidden": false
    }
   },
   "outputs": [
    {
     "name": "stdout",
     "output_type": "stream",
     "text": [
      "TBN Size: 1023.4 kB\n"
     ]
    }
   ],
   "source": [
    "# This may take a bit...\n",
    "from lsl.reader import tbn\n",
    "\n",
    "fh1 = urlopen('https://lda10g.alliance.unm.edu/tutorial/Meteors/056761_000099453')\n",
    "fh2 = open(TBN_FILE, 'wb')\n",
    "fh2.write(fh1.read(tbn.FRAME_SIZE*1000))\n",
    "fh1.close()\n",
    "fh2.close()\n",
    "    \n",
    "print(\"TBN Size: %.1f kB\" % (os.path.getsize(TBN_FILE)/1024.))"
   ]
  },
  {
   "cell_type": "code",
   "execution_count": 8,
   "metadata": {
    "collapsed": false,
    "jupyter": {
     "outputs_hidden": false
    }
   },
   "outputs": [
    {
     "name": "stdout",
     "output_type": "stream",
     "text": [
      "DP Stand Number: 232, pol. 0\n",
      "-> Time tag: 1397472446 + 0.953920 s (2014-04-14 10:47:26.953920)\n",
      "-> Mean value: 0.062 + 0.162 j\n",
      "DP Stand Number: 232, pol. 1\n",
      "-> Time tag: 1397472446 + 0.953920 s (2014-04-14 10:47:26.953920)\n",
      "-> Mean value: 0.344 + 0.365 j\n",
      "DP Stand Number: 255, pol. 0\n",
      "-> Time tag: 1397472446 + 0.953920 s (2014-04-14 10:47:26.953920)\n",
      "-> Mean value: -0.709 + 0.436 j\n",
      "DP Stand Number: 245, pol. 0\n",
      "-> Time tag: 1397472446 + 0.953920 s (2014-04-14 10:47:26.953920)\n",
      "-> Mean value: -0.320 + -0.559 j\n",
      "DP Stand Number: 255, pol. 1\n",
      "-> Time tag: 1397472446 + 0.953920 s (2014-04-14 10:47:26.953920)\n",
      "-> Mean value: -0.252 + -0.178 j\n"
     ]
    }
   ],
   "source": [
    "from lsl.reader import tbn, errors\n",
    "\n",
    "# Read in the first 5 frames\n",
    "fh = open(TBN_FILE, 'rb')\n",
    "for i in range(5):\n",
    "    try:\n",
    "        frame = tbn.read_frame(fh)\n",
    "    except errors.SyncError:\n",
    "        continue\n",
    "    except errors.EOFError:\n",
    "        break\n",
    "        \n",
    "    print(\"DP Stand Number: %i, pol. %i\" % frame.id)\n",
    "    print(\"-> Time tag: %i + %.6f s (%s)\" % (frame.time[0], frame.time[1], frame.time))\n",
    "    print(\"-> Mean value: %.3f + %.3f j\" % (frame.payload.data.mean().real, frame.payload.data.mean().imag))\n",
    "fh.close()"
   ]
  },
  {
   "cell_type": "markdown",
   "metadata": {},
   "source": [
    "Similar to the TBW case, the stand and polarizations returned by \"frame.id\" are from the interal DP structure.  To relate this to LWA1 stand/polarizations you use a similar method:"
   ]
  },
  {
   "cell_type": "code",
   "execution_count": 9,
   "metadata": {
    "collapsed": false,
    "jupyter": {
     "outputs_hidden": false
    }
   },
   "outputs": [
    {
     "name": "stdout",
     "output_type": "stream",
     "text": [
      "DP Stand Number: 232, pol. 0\n",
      "-> LWA1 Stand, pol.: 34, 0\n",
      "-> Time tag: 1397472446 + 0.953920 s (2014-04-14 10:47:26.953920)\n",
      "-> Mean value: 0.062 + 0.162 j\n",
      "DP Stand Number: 232, pol. 1\n",
      "-> LWA1 Stand, pol.: 34, 1\n",
      "-> Time tag: 1397472446 + 0.953920 s (2014-04-14 10:47:26.953920)\n",
      "-> Mean value: 0.344 + 0.365 j\n",
      "DP Stand Number: 255, pol. 0\n",
      "-> LWA1 Stand, pol.: 11, 0\n",
      "-> Time tag: 1397472446 + 0.953920 s (2014-04-14 10:47:26.953920)\n",
      "-> Mean value: -0.709 + 0.436 j\n",
      "DP Stand Number: 245, pol. 0\n",
      "-> LWA1 Stand, pol.: 211, 0\n",
      "-> Time tag: 1397472446 + 0.953920 s (2014-04-14 10:47:26.953920)\n",
      "-> Mean value: -0.320 + -0.559 j\n",
      "DP Stand Number: 255, pol. 1\n",
      "-> LWA1 Stand, pol.: 11, 1\n",
      "-> Time tag: 1397472446 + 0.953920 s (2014-04-14 10:47:26.953920)\n",
      "-> Mean value: -0.252 + -0.178 j\n"
     ]
    }
   ],
   "source": [
    "from lsl.common.stations import lwa1\n",
    "    \n",
    "# Get the antenna list\n",
    "antennas = lwa1.antennas\n",
    "\n",
    "# Read in the first 5 frames\n",
    "fh = open(TBN_FILE, 'rb')\n",
    "for i in range(5):\n",
    "    try:\n",
    "        frame = tbn.read_frame(fh)\n",
    "    except errors.SyncError:\n",
    "        continue\n",
    "    except errors.EOFError:\n",
    "        break\n",
    "        \n",
    "    # Calculate the digitizer\n",
    "    stand,pol = frame.id\n",
    "    dig = 2*(stand-1) + pol + 1\n",
    "    \n",
    "    print(\"DP Stand Number: %i, pol. %i\" % (stand,pol))\n",
    "    print(\"-> LWA1 Stand, pol.: %i, %i\" % (antennas[dig-1].stand.id, antennas[dig-1].pol))\n",
    "    print(\"-> Time tag: %i + %.6f s (%s)\" % (frame.time[0], frame.time[1], frame.time))\n",
    "    print(\"-> Mean value: %.3f + %.3f j\" % (frame.payload.data.mean().real, frame.payload.data.mean().imag))\n",
    "fh.close()"
   ]
  },
  {
   "cell_type": "markdown",
   "metadata": {},
   "source": [
    "# Generating and Plotting Spectra"
   ]
  },
  {
   "cell_type": "markdown",
   "metadata": {},
   "source": [
    "Although computing the mean I/Q value for each frame isn't particularlly interesting this example shows how data can be extracted from within each TBN frame.  A more complicated example that generates spectra would look like:"
   ]
  },
  {
   "cell_type": "code",
   "execution_count": 10,
   "metadata": {
    "collapsed": false,
    "jupyter": {
     "outputs_hidden": false
    }
   },
   "outputs": [
    {
     "name": "stdout",
     "output_type": "stream",
     "text": [
      "(512,) (1, 512)\n"
     ]
    },
    {
     "data": {
      "image/png": "[encoded data removed]",
      "text/plain": [
       "<Figure size 432x288 with 1 Axes>"
      ]
     },
     "metadata": {
      "needs_background": "light"
     },
     "output_type": "display_data"
    }
   ],
   "source": [
    "%matplotlib inline\n",
    "from lsl.misc.mathutils import to_dB\n",
    "from matplotlib import pyplot as plt\n",
    "\n",
    "fh = open(TBN_FILE, 'rb')\n",
    "srate = tbn.get_sample_rate(fh)   # Data sample rate in Hz\n",
    "frame = tbn.read_frame(fh)\n",
    "cFreq = frame.central_freq  # Data tuning in Hz\n",
    "iq_data = frame.payload.data*1.0\n",
    "iq_data.shape = (1,frame.payload.data.size)  # SpecMaster expects 2-D data\n",
    "\n",
    "from lsl.correlator import fx as fxc\n",
    "freq, spec = fxc.SpecMaster(iq_data, LFFT=512, sample_rate=srate, central_freq=cFreq) \n",
    "print(freq.shape, spec.shape)\n",
    "\n",
    "fig = plt.figure()\n",
    "ax = fig.gca()\n",
    "ax.plot((freq-freq.mean())/1e3, to_dB(spec[0,:]))\n",
    "ax.set_xlabel('Relative Freq [kHz]')\n",
    "ax.set_ylabel('PSD [arb. dB]')\n",
    "plt.show()"
   ]
  },
  {
   "cell_type": "markdown",
   "metadata": {},
   "source": [
    "The \"SpecMaster\" function used above also works for TBW data."
   ]
  },
  {
   "cell_type": "markdown",
   "metadata": {},
   "source": [
    "# Post-Acquisition Beam Formings with TBN"
   ]
  },
  {
   "cell_type": "markdown",
   "metadata": {},
   "source": [
    "For post-acquisition beam forming, you need need an azimuth (in degrees) and altitude (in degrees) to point the beam towards.  For planets, this can be accomplished using the pyephem package that is required by lsl.  For example, compute the location of Jupiter at LWA-1 on 12/17/2010 at 21:18 UTC (JD 2,455,548.38787):"
   ]
  },
  {
   "cell_type": "code",
   "execution_count": 11,
   "metadata": {
    "collapsed": false,
    "jupyter": {
     "outputs_hidden": false
    }
   },
   "outputs": [
    {
     "name": "stdout",
     "output_type": "stream",
     "text": [
      "Jupiter:  az -> 112.4, el -> 24.4\n"
     ]
    }
   ],
   "source": [
    "import math\n",
    "import ephem\n",
    "from lsl.common import stations\n",
    "\n",
    "lwa1 = stations.lwa1\n",
    "lwaObserver = lwa1.get_observer(2455548.38787, JD=True)\n",
    "jove = ephem.Jupiter()\n",
    "jove.compute(lwaObserver)\n",
    "print(\"Jupiter:  az -> %.1f, el -> %.1f\" % (jove.az*180/math.pi, jove.alt*180/math.pi))"
   ]
  },
  {
   "cell_type": "markdown",
   "metadata": {},
   "source": [
    "For fixed positions, use:"
   ]
  },
  {
   "cell_type": "code",
   "execution_count": 12,
   "metadata": {
    "collapsed": false,
    "jupyter": {
     "outputs_hidden": false
    }
   },
   "outputs": [
    {
     "name": "stdout",
     "output_type": "stream",
     "text": [
      "Cygnus A:  az -> 10.0, el -> 83.2\n"
     ]
    }
   ],
   "source": [
    "lwaObserver.date = '2010/12/17 21:18:34'\n",
    "\n",
    "cyga = ephem.FixedBody()\n",
    "cyga._ra = '19:59:28.30'\n",
    "cyga._dec = '+40:44:02'\n",
    "cyga.compute(lwaObserver)\n",
    "print(\"Cygnus A:  az -> %.1f, el -> %.1f\" % (cyga.az*180/math.pi, cyga.alt*180/math.pi))"
   ]
  },
  {
   "cell_type": "markdown",
   "metadata": {},
   "source": [
    "After TBN data have been read in and a pointing position has been found, a beam can be formed through phase-and-sum beamforming:"
   ]
  },
  {
   "cell_type": "code",
   "execution_count": 13,
   "metadata": {
    "collapsed": false,
    "jupyter": {
     "outputs_hidden": false
    }
   },
   "outputs": [
    {
     "name": "stdout",
     "output_type": "stream",
     "text": [
      "(1, 512)\n"
     ]
    }
   ],
   "source": [
    "from lsl.misc import beamformer\n",
    "\n",
    "antennas = [lwa1.antennas[0],]\n",
    "\n",
    "beamdata = beamformer.phase_and_sum(antennas, iq_data, sample_rate=1e5, azimuth=10.9, altitude=83.2)\n",
    "print(beamdata.shape)"
   ]
  },
  {
   "cell_type": "markdown",
   "metadata": {},
   "source": [
    "# Additional Info",
    "\n",
    "In addition to the modules provided in LSL there are also a variety of scripts in the [commissioning repo](https://github.com/lwa-project/commissioning) to analyze data.\n"
   ]
  }
 ],
 "metadata": {
  "kernelspec": {
   "display_name": "Python 3",
   "language": "python",
   "name": "python3"
  },
  "language_info": {
   "codemirror_mode": {
    "name": "ipython",
    "version": 3
   },
   "file_extension": ".py",
   "mimetype": "text/x-python",
   "name": "python",
   "nbconvert_exporter": "python",
   "pygments_lexer": "ipython3",
   "version": "3.6.9"
  }
 },
 "nbformat": 4,
 "nbformat_minor": 4
}
